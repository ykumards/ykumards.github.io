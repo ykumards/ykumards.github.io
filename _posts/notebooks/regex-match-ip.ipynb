{
 "cells": [
  {
   "cell_type": "raw",
   "metadata": {},
   "source": [
    "---\n",
    "layout: post\n",
    "title: Match an IP address\n",
    "description: \"How to match an IP address in a text using regex\"\n",
    "category: tech-notes\n",
    "tags: [python, regex, text]\n",
    "---"
   ]
  },
  {
   "cell_type": "markdown",
   "metadata": {},
   "source": [
    "Sometimes we'd need to match IP addresses in a text, probably to extract them or filter them out. I faced this while working on the Kaggle's Toxic Comments challenge, many of the texts end with an IP address. If you're trying extract features like \"number of sentences in the comment\", these IPs could mess the count. "
   ]
  },
  {
   "cell_type": "code",
   "execution_count": 2,
   "metadata": {},
   "outputs": [
    {
     "name": "stdout",
     "output_type": "stream",
     "text": [
      "And please don't remove the template from the talk page since I'm retired now. <IP> \n"
     ]
    }
   ],
   "source": [
    "import re\n",
    "\n",
    "text = \"And please don't remove the template from the talk page since I'm retired now.89.205.38.27\"\n",
    "ip = re.compile(r'[0-9]+(?:\\.[0-9]+){3}')\n",
    "print(re.sub(ip, ' <IP> ', text))"
   ]
  },
  {
   "cell_type": "markdown",
   "metadata": {},
   "source": [
    "This code replaces the IP with the tag `<IP>`. The filter is not fool-proof though, it sometimes lets in invalid ip addresses."
   ]
  },
  {
   "cell_type": "code",
   "execution_count": 4,
   "metadata": {},
   "outputs": [
    {
     "name": "stdout",
     "output_type": "stream",
     "text": [
      "['0.00.999.9999']\n"
     ]
    }
   ],
   "source": [
    "adversarial_text = \"And please don't remove the template from the talk page since I'm retired now.0.00.999.9999\"\n",
    "print(ip.findall(adversarial_text))"
   ]
  },
  {
   "cell_type": "markdown",
   "metadata": {},
   "source": [
    "This is not a problem for my use case, but is an issue if we're say, verifying the entry in a form. The regex info webpage has some solutions for this [here](https://www.regular-expressions.info/ip.html)."
   ]
  }
 ],
 "metadata": {
  "kernelspec": {
   "display_name": "Python 3",
   "language": "python",
   "name": "python3"
  },
  "language_info": {
   "codemirror_mode": {
    "name": "ipython",
    "version": 3
   },
   "file_extension": ".py",
   "mimetype": "text/x-python",
   "name": "python",
   "nbconvert_exporter": "python",
   "pygments_lexer": "ipython3",
   "version": "3.6.4"
  }
 },
 "nbformat": 4,
 "nbformat_minor": 2
}
